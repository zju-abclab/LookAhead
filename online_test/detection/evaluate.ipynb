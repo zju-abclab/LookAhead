{
 "cells": [
  {
   "cell_type": "code",
   "execution_count": null,
   "metadata": {},
   "outputs": [],
   "source": [
    "from contract_feature_handler import ContractFeatureHandler\n",
    "from classification_evaluator import ClassificationEvaluator\n",
    "import pandas as pd\n",
    "import os\n",
    "\n",
    "os.environ[\"no_proxy\"] = \"127.0.0.1\"\n",
    "# os.environ[\"CUDA_VISIBLE_DEVICES\"] = \"0,1\"\n",
    "\n",
    "contract_address = \"0x1d4786b1100ac1b168e5a8a53dbd8805803aa277\"\n",
    "\n",
    "contract_handler = ContractFeatureHandler(contract_address, debug_flag=True)\n",
    "if contract_handler.gigahorse_status != 'OK':\n",
    "    print('Gigahorse ERROR!')\n",
    "else:    \n",
    "    df_tmp = pd.DataFrame([contract_handler.features])\n",
    "    classificationEvaluator = ClassificationEvaluator()\n",
    "    classificationEvaluator.evaluate_single(df_tmp)\n",
    "    classificationEvaluator.evaluate_hybrid(df_tmp)\n"
   ]
  }
 ],
 "metadata": {
  "kernelspec": {
   "display_name": "lookahead",
   "language": "python",
   "name": "python3"
  },
  "language_info": {
   "codemirror_mode": {
    "name": "ipython",
    "version": 3
   },
   "file_extension": ".py",
   "mimetype": "text/x-python",
   "name": "python",
   "nbconvert_exporter": "python",
   "pygments_lexer": "ipython3",
   "version": "3.12.5"
  }
 },
 "nbformat": 4,
 "nbformat_minor": 2
}
